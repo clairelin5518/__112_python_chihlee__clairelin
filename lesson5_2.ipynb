{
 "cells": [
  {
   "cell_type": "code",
   "execution_count": 3,
   "metadata": {},
   "outputs": [
    {
     "name": "stdout",
     "output_type": "stream",
     "text": [
      "1\n",
      "10\n",
      "14\n",
      "20\n",
      "27\n",
      "29\n",
      "31\n",
      "33\n",
      "43\n",
      "45\n",
      "54\n",
      "56\n",
      "64\n",
      "73\n",
      "76\n",
      "80\n",
      "84\n",
      "85\n",
      "87\n",
      "93\n",
      "98\n"
     ]
    }
   ],
   "source": [
    "import random\n",
    "n=1\n",
    "while n<=100:\n",
    "    print(n)\n",
    "    n+=random.randint(1,10)"
   ]
  },
  {
   "cell_type": "code",
   "execution_count": 8,
   "metadata": {},
   "outputs": [
    {
     "name": "stdout",
     "output_type": "stream",
     "text": [
      "9\n",
      "4\n",
      "結束\n"
     ]
    }
   ],
   "source": [
    "#奇數輸出平方\n",
    "#偶數輸出原來的值\n",
    "#'q'離開\n",
    "while True:\n",
    "    value=input('請輸入整數,輸入q離開:')\n",
    "    if value=='q':\n",
    "        break\n",
    "    value=int(value)\n",
    "    if value%2==1:\n",
    "        print(value**2)\n",
    "    else:\n",
    "        print(value)\n",
    "print('結束')"
   ]
  },
  {
   "cell_type": "code",
   "execution_count": 15,
   "metadata": {},
   "outputs": [
    {
     "name": "stdout",
     "output_type": "stream",
     "text": [
      "結束\n",
      "總共執行3\n",
      "6\n"
     ]
    }
   ],
   "source": [
    "#請設計一個程式，讓使用者輸入數值，只有加總正偶數值，不加總正奇數值，負數則結束\n",
    "total=0\n",
    "num=0\n",
    "while(True):\n",
    "    value=int(input(f'請輸入第{num+1}數值:'))\n",
    "    if value<0:\n",
    "        break\n",
    "    elif value%2==1:\n",
    "        num+=1\n",
    "        continue\n",
    "    else:\n",
    "        num+=1\n",
    "        total+=value\n",
    "print('結束')\n",
    "print(f'總共執行{num}')\n",
    "print(total)"
   ]
  }
 ],
 "metadata": {
  "kernelspec": {
   "display_name": "Python 3",
   "language": "python",
   "name": "python3"
  },
  "language_info": {
   "codemirror_mode": {
    "name": "ipython",
    "version": 3
   },
   "file_extension": ".py",
   "mimetype": "text/x-python",
   "name": "python",
   "nbconvert_exporter": "python",
   "pygments_lexer": "ipython3",
   "version": "3.10.13"
  }
 },
 "nbformat": 4,
 "nbformat_minor": 2
}
