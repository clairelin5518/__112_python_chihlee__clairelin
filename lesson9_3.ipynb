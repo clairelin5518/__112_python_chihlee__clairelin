{
 "cells": [
  {
   "cell_type": "code",
   "execution_count": 1,
   "metadata": {},
   "outputs": [],
   "source": [
    "stu1=[35,56,78,95,99]\n",
    "stu2=[88,95,65,23,88]\n",
    "stu3=[99,89,97,65,76]"
   ]
  },
  {
   "cell_type": "code",
   "execution_count": 2,
   "metadata": {},
   "outputs": [
    {
     "data": {
      "text/plain": [
       "[[35, 56, 78, 95, 99], [88, 95, 65, 23, 88], [99, 89, 97, 65, 76]]"
      ]
     },
     "execution_count": 2,
     "metadata": {},
     "output_type": "execute_result"
    }
   ],
   "source": [
    "students=[stu1,stu2,stu3]\n",
    "students"
   ]
  },
  {
   "cell_type": "code",
   "execution_count": 4,
   "metadata": {},
   "outputs": [
    {
     "data": {
      "text/plain": [
       "[[35, 56, 78, 95, 99], [88, 95, 65, 23, 88], [99, 89, 97, 65, 76]]"
      ]
     },
     "execution_count": 4,
     "metadata": {},
     "output_type": "execute_result"
    }
   ],
   "source": [
    "students=list()\n",
    "students.append(stu1)\n",
    "students.append(stu2)\n",
    "students.append(stu3)\n",
    "students"
   ]
  },
  {
   "cell_type": "code",
   "execution_count": 14,
   "metadata": {},
   "outputs": [
    {
     "data": {
      "text/plain": [
       "[55, 62, 76, 67, 96]"
      ]
     },
     "execution_count": 14,
     "metadata": {},
     "output_type": "execute_result"
    }
   ],
   "source": [
    "#建立一個學生的5個分數\n",
    "import random\n",
    "stu1=[]\n",
    "for num in range(5):\n",
    "    score=(random.randint(50,100))\n",
    "    stu1.append(score)\n",
    "stu1"
   ]
  },
  {
   "cell_type": "code",
   "execution_count": 13,
   "metadata": {},
   "outputs": [
    {
     "data": {
      "text/plain": [
       "[[95, 55, 61, 56, 51],\n",
       " [64, 59, 59, 100, 72],\n",
       " [84, 93, 54, 60, 82],\n",
       " [99, 65, 83, 92, 78],\n",
       " [68, 59, 51, 73, 52],\n",
       " [55, 71, 50, 68, 60],\n",
       " [70, 97, 99, 58, 52],\n",
       " [66, 79, 98, 67, 99],\n",
       " [86, 51, 92, 71, 76],\n",
       " [76, 92, 94, 79, 95],\n",
       " [56, 92, 71, 70, 60],\n",
       " [91, 76, 81, 63, 70],\n",
       " [74, 53, 100, 51, 52],\n",
       " [85, 90, 75, 67, 71],\n",
       " [99, 60, 70, 60, 62],\n",
       " [90, 82, 97, 80, 70],\n",
       " [69, 50, 88, 75, 88],\n",
       " [50, 98, 59, 67, 53],\n",
       " [95, 82, 59, 63, 81],\n",
       " [96, 74, 90, 50, 77],\n",
       " [59, 72, 82, 64, 61],\n",
       " [95, 74, 92, 52, 73],\n",
       " [59, 58, 57, 87, 59],\n",
       " [76, 53, 84, 70, 56],\n",
       " [78, 70, 68, 97, 59],\n",
       " [81, 71, 51, 95, 55],\n",
       " [78, 89, 93, 73, 52],\n",
       " [92, 54, 97, 60, 67],\n",
       " [75, 83, 85, 69, 80],\n",
       " [98, 67, 72, 67, 80],\n",
       " [75, 66, 64, 91, 95],\n",
       " [85, 58, 63, 74, 69],\n",
       " [79, 60, 67, 77, 71],\n",
       " [74, 65, 73, 79, 71],\n",
       " [52, 91, 66, 67, 88],\n",
       " [72, 72, 58, 53, 97],\n",
       " [64, 91, 88, 90, 59],\n",
       " [97, 83, 51, 85, 98],\n",
       " [81, 99, 58, 80, 60],\n",
       " [76, 94, 75, 72, 63],\n",
       " [53, 63, 77, 93, 98],\n",
       " [80, 92, 76, 68, 93],\n",
       " [76, 57, 60, 83, 99],\n",
       " [85, 50, 69, 86, 66],\n",
       " [70, 86, 92, 80, 66],\n",
       " [72, 80, 88, 65, 92],\n",
       " [95, 92, 79, 78, 100],\n",
       " [84, 91, 65, 53, 65],\n",
       " [80, 89, 95, 53, 87],\n",
       " [65, 86, 62, 65, 87]]"
      ]
     },
     "execution_count": 13,
     "metadata": {},
     "output_type": "execute_result"
    }
   ],
   "source": [
    "#建立50個學生的5個分數\n",
    "students=[]\n",
    "for _ in range(50):\n",
    "    stu=[]\n",
    "    for _ in range(5):\n",
    "        score=(random.randint(50,100))\n",
    "        stu.append(score)\n",
    "    students.append(stu)\n",
    "students"
   ]
  },
  {
   "cell_type": "code",
   "execution_count": 21,
   "metadata": {},
   "outputs": [
    {
     "data": {
      "text/plain": [
       "[[66, 71, 61, 77, 88],\n",
       " [73, 97, 92, 53, 53],\n",
       " [85, 74, 66, 92, 89],\n",
       " [69, 73, 60, 96, 55],\n",
       " [56, 51, 95, 89, 70],\n",
       " [90, 82, 89, 62, 59],\n",
       " [87, 53, 72, 95, 81],\n",
       " [61, 81, 88, 82, 53],\n",
       " [91, 72, 93, 72, 94],\n",
       " [50, 51, 79, 80, 75],\n",
       " [68, 83, 99, 56, 61],\n",
       " [99, 57, 98, 58, 64],\n",
       " [65, 82, 65, 78, 83],\n",
       " [61, 83, 53, 76, 81],\n",
       " [80, 80, 84, 86, 86],\n",
       " [95, 96, 98, 80, 71],\n",
       " [81, 99, 94, 93, 58],\n",
       " [63, 80, 73, 59, 57],\n",
       " [83, 94, 88, 99, 84],\n",
       " [86, 55, 90, 82, 73],\n",
       " [82, 100, 71, 85, 70],\n",
       " [92, 58, 96, 71, 100],\n",
       " [60, 94, 67, 52, 73],\n",
       " [78, 91, 87, 80, 58],\n",
       " [67, 70, 74, 79, 97],\n",
       " [61, 51, 91, 95, 65],\n",
       " [55, 60, 65, 53, 51],\n",
       " [96, 91, 88, 52, 78],\n",
       " [78, 64, 62, 71, 94],\n",
       " [77, 71, 81, 57, 52],\n",
       " [58, 65, 59, 55, 78],\n",
       " [52, 65, 72, 80, 56],\n",
       " [63, 87, 57, 62, 59],\n",
       " [51, 89, 95, 91, 64],\n",
       " [70, 58, 54, 74, 86],\n",
       " [67, 65, 83, 97, 70],\n",
       " [86, 80, 70, 78, 80],\n",
       " [89, 92, 91, 70, 66],\n",
       " [83, 56, 51, 90, 60],\n",
       " [87, 51, 52, 99, 99],\n",
       " [78, 99, 52, 91, 50],\n",
       " [57, 68, 81, 71, 71],\n",
       " [73, 60, 57, 93, 97],\n",
       " [61, 71, 79, 55, 75],\n",
       " [59, 64, 82, 70, 88],\n",
       " [99, 60, 59, 98, 99],\n",
       " [62, 89, 80, 89, 81],\n",
       " [94, 87, 94, 86, 62],\n",
       " [90, 94, 60, 79, 72],\n",
       " [85, 75, 55, 70, 98]]"
      ]
     },
     "execution_count": 21,
     "metadata": {},
     "output_type": "execute_result"
    }
   ],
   "source": [
    "import random\n",
    "def createStudent()->list[int]:\n",
    "    stu = []\n",
    "    for _ in range(5):    \n",
    "        score = random.randint(50,100)\n",
    "        stu.append(score)\n",
    "    return stu\n",
    "\n",
    "classes = []\n",
    "for _ in range(50):\n",
    "    stu = createStudent()\n",
    "    classes.append(stu)\n",
    "classes\n"
   ]
  },
  {
   "cell_type": "code",
   "execution_count": 2,
   "metadata": {},
   "outputs": [],
   "source": [
    "import random\n",
    "def createStudent()->list[int]:\n",
    "    stu = []\n",
    "    for _ in range(5):    \n",
    "        score = random.randint(50,100)\n",
    "        stu.append(score)\n",
    "    return stu\n",
    "\n",
    "def createClasses(numbers:int)->list[list]:\n",
    "    classes = []\n",
    "    for _ in range(numbers):\n",
    "        stu = createStudent()\n",
    "        classes.append(stu)\n",
    "    return classes\n",
    "\n",
    "students=createClasses(50)\n"
   ]
  },
  {
   "cell_type": "code",
   "execution_count": 3,
   "metadata": {},
   "outputs": [],
   "source": [
    "#存檔\n",
    "import csv\n",
    "\n",
    "file=open('students.csv',mode='w',encoding='utf-8',newline='')\n",
    "csv_writer=csv.writer(file)\n",
    "csv_writer.writerow(['國文','英文','數學','地理','歷史'])\n",
    "csv_writer.writerows(students)\n",
    "file.close()\n"
   ]
  }
 ],
 "metadata": {
  "kernelspec": {
   "display_name": "Python 3",
   "language": "python",
   "name": "python3"
  },
  "language_info": {
   "codemirror_mode": {
    "name": "ipython",
    "version": 3
   },
   "file_extension": ".py",
   "mimetype": "text/x-python",
   "name": "python",
   "nbconvert_exporter": "python",
   "pygments_lexer": "ipython3",
   "version": "3.10.13"
  }
 },
 "nbformat": 4,
 "nbformat_minor": 2
}
