{
 "cells": [
  {
   "cell_type": "code",
   "execution_count": 4,
   "metadata": {},
   "outputs": [
    {
     "name": "stdout",
     "output_type": "stream",
     "text": [
      "===========猜數字遊戲===========\n",
      "再猜一次\n",
      "再猜一次\n",
      "再猜一次\n",
      "對了,答案是:4\n",
      "你猜了4次\n",
      "結束\n"
     ]
    }
   ],
   "source": [
    "import random\n",
    "min=1\n",
    "max=10\n",
    "count=0\n",
    "target=random.randint(min,max)\n",
    "print('===========猜數字遊戲===========')\n",
    "while(True):\n",
    "    keyin=int(input(f'猜數字的範圍{min}~{max}'))\n",
    "    count+=1\n",
    "    if(keyin>=min and keyin<=max):\n",
    "        if keyin==target:\n",
    "            print(f'對了,答案是:{keyin}')\n",
    "            break\n",
    "        else:\n",
    "            print('再猜一次')\n",
    "            continue\n",
    "    else:\n",
    "        print('請輸入提示範圍的數字')\n",
    "print(f'你猜了{count}次')\n",
    "print('結束')"
   ]
  },
  {
   "cell_type": "code",
   "execution_count": 1,
   "metadata": {},
   "outputs": [
    {
     "name": "stdout",
     "output_type": "stream",
     "text": [
      "===========猜數字遊戲===========\n",
      "小一點\n",
      "加油,已猜了1次\n",
      "大一點\n",
      "加油,已猜了2次\n",
      "大一點\n",
      "加油,已猜了3次\n",
      "大一點\n",
      "加油,已猜了4次\n",
      "小一點\n",
      "加油,已猜了5次\n",
      "大一點\n",
      "加油,已猜了6次\n",
      "對了,答案是:87\n",
      "你猜了7次\n",
      "結束\n"
     ]
    }
   ],
   "source": [
    "import random\n",
    "min=1\n",
    "max=100\n",
    "count=0\n",
    "target=random.randint(min,max)\n",
    "print('===========猜數字遊戲===========')\n",
    "while(True):\n",
    "    keyin=int(input(f'猜數字的範圍{min}~{max}'))\n",
    "    count+=1\n",
    "    if(keyin>=min and keyin<=max):\n",
    "        if keyin==target:\n",
    "            print(f'對了,答案是:{keyin}')\n",
    "            break\n",
    "        elif keyin>target:\n",
    "            print('小一點')\n",
    "            max=keyin-1\n",
    "        elif keyin<target:\n",
    "            print('大一點')\n",
    "            min=keyin+1\n",
    "        print(f'加油,已猜了{count}次')\n",
    "        continue\n",
    "    else:\n",
    "        print('請輸入提示範圍的數字')\n",
    "print(f'你猜了{count}次')\n",
    "print('結束')"
   ]
  }
 ],
 "metadata": {
  "kernelspec": {
   "display_name": "Python 3",
   "language": "python",
   "name": "python3"
  },
  "language_info": {
   "codemirror_mode": {
    "name": "ipython",
    "version": 3
   },
   "file_extension": ".py",
   "mimetype": "text/x-python",
   "name": "python",
   "nbconvert_exporter": "python",
   "pygments_lexer": "ipython3",
   "version": "3.10.13"
  }
 },
 "nbformat": 4,
 "nbformat_minor": 2
}
