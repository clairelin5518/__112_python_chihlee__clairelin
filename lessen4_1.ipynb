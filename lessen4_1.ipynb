{
 "cells": [
  {
   "cell_type": "code",
   "execution_count": 3,
   "metadata": {},
   "outputs": [
    {
     "name": "stdout",
     "output_type": "stream",
     "text": [
      "請輸入學生分數(最高300分):\n",
      "學生分數 123\n"
     ]
    }
   ],
   "source": [
    "#學生總分為300分\n",
    "import pyinputplus as pyip\n",
    "\n",
    "scores=pyip.inputInt('請輸入學生分數(最高300分):')\n",
    "print()\n",
    "print(\"學生分數\", scores)"
   ]
  },
  {
   "cell_type": "code",
   "execution_count": 7,
   "metadata": {},
   "outputs": [
    {
     "name": "stdout",
     "output_type": "stream",
     "text": [
      "請輸入學生分數(最高300分):\n",
      "學生Claire分數298\n"
     ]
    }
   ],
   "source": [
    "#學生總分為300分_字串插補\n",
    "import pyinputplus as pyip\n",
    "\n",
    "scores=pyip.inputInt('請輸入學生分數(最高300分):')\n",
    "name='Claire'\n",
    "print()\n",
    "print(f\"學生{name}分數{scores}\")"
   ]
  },
  {
   "cell_type": "code",
   "execution_count": 9,
   "metadata": {},
   "outputs": [
    {
     "name": "stdout",
     "output_type": "stream",
     "text": [
      "請輸入學生分數(最高300分):\n",
      "學生Claire分數298\n"
     ]
    }
   ],
   "source": [
    "#學生總分為300分_字串插補_判斷\n",
    "import pyinputplus as pyip\n",
    "\n",
    "scores=pyip.inputInt('請輸入學生分數(最高300分):')\n",
    "name='Claire'\n",
    "print()\n",
    "if scores <=300:\n",
    "    print(f\"學生{name}分數{scores}\")\n",
    "else:\n",
    "    print('不可超過300')"
   ]
  },
  {
   "cell_type": "code",
   "execution_count": 13,
   "metadata": {},
   "outputs": [
    {
     "name": "stdout",
     "output_type": "stream",
     "text": [
      "請輸入學生分數(最高300分):\n",
      "學生Claire分數298\n"
     ]
    }
   ],
   "source": [
    "#學生總分為300分_字串插補_pyip\n",
    "import pyinputplus as pyip\n",
    "\n",
    "scores=pyip.inputInt('請輸入學生分數(最高300分):',min=0, max=300)\n",
    "name='Claire'\n",
    "print()\n",
    "print(f\"學生{name}分數{scores}\")"
   ]
  },
  {
   "cell_type": "code",
   "execution_count": 30,
   "metadata": {},
   "outputs": [
    {
     "name": "stdout",
     "output_type": "stream",
     "text": [
      "請輸入學生分數(最高300分):298\n",
      "學生是否符合加分條件(請選擇1或2)\n",
      "1. y\n",
      "2. n\n",
      "y\n",
      "學生分數為:300\n"
     ]
    }
   ],
   "source": [
    "#範例\n",
    "#有些學生可加分5%，若超過300，以300分為準\n",
    "import pyinputplus as pyip\n",
    "\n",
    "scores=pyip.inputInt('請輸入學生分數(最高300分):',min=0, max=300)\n",
    "print(scores)\n",
    "\n",
    "isYes=pyip.inputMenu(['y','n'],prompt='學生是否符合加分條件(請選擇1或2)\\n',numbered=True)\n",
    "print(isYes)\n",
    "if isYes=='y':\n",
    "    scores *= 1.05\n",
    "    if scores>300:\n",
    "        scores=300\n",
    "print(f'學生分數為:{scores}')"
   ]
  },
  {
   "cell_type": "code",
   "execution_count": 48,
   "metadata": {},
   "outputs": [
    {
     "name": "stdout",
     "output_type": "stream",
     "text": [
      "請輸入x值:-9\n",
      "請輸入y值:2\n",
      "-3.0\n"
     ]
    }
   ],
   "source": [
    "import pyinputplus as pyip\n",
    "\n",
    "x=pyip.inputInt('請輸入x值:')\n",
    "print(x)\n",
    "y=pyip.inputInt('請輸入y值:')\n",
    "print(y)\n",
    "if x>=0:\n",
    "    print(x**(1/y))\n",
    "else:\n",
    "    if x%2==0:\n",
    "        print('虛數')\n",
    "    else:\n",
    "        print(-(-x)**(1/y))\n"
   ]
  },
  {
   "cell_type": "code",
   "execution_count": 54,
   "metadata": {},
   "outputs": [
    {
     "name": "stdout",
     "output_type": "stream",
     "text": [
      "-9.643650760992955\n"
     ]
    }
   ],
   "source": [
    "x=-93\n",
    "y=2\n",
    "if x>=0:\n",
    "    print('不是負數')\n",
    "    root=x**(1/y)\n",
    "else:\n",
    "    if x%2==0:\n",
    "        root='虛數'\n",
    "    else:\n",
    "        root=-(-x)**(1/y)\n",
    "print(root)\n"
   ]
  },
  {
   "cell_type": "code",
   "execution_count": 70,
   "metadata": {},
   "outputs": [
    {
     "name": "stdout",
     "output_type": "stream",
     "text": [
      "不及格\n"
     ]
    }
   ],
   "source": [
    "scores = 20\n",
    "\n",
    "if scores<60:\n",
    "    print('不及格')\n",
    "elif scores>=80:\n",
    "    print('優')\n",
    "else:\n",
    "    print('甲')"
   ]
  },
  {
   "cell_type": "code",
   "execution_count": 71,
   "metadata": {},
   "outputs": [
    {
     "name": "stdout",
     "output_type": "stream",
     "text": [
      "不及格\n"
     ]
    }
   ],
   "source": [
    "scores = 21\n",
    "\n",
    "if scores<60:\n",
    "    print('不及格')\n",
    "else:\n",
    "    if scores>=80:\n",
    "        print('優')\n",
    "    else:\n",
    "        print('甲')"
   ]
  },
  {
   "cell_type": "code",
   "execution_count": 76,
   "metadata": {},
   "outputs": [
    {
     "name": "stdout",
     "output_type": "stream",
     "text": [
      "丁\n"
     ]
    }
   ],
   "source": [
    "#多項選擇\n",
    "scores = 1\n",
    "if scores>=90:\n",
    "    print('優')\n",
    "elif scores>=80:\n",
    "    print('甲')\n",
    "elif scores>=70:\n",
    "    print('乙')\n",
    "elif scores>=60:\n",
    "    print('丙')\n",
    "else:\n",
    "    print('丁')\n"
   ]
  },
  {
   "cell_type": "code",
   "execution_count": null,
   "metadata": {},
   "outputs": [],
   "source": []
  }
 ],
 "metadata": {
  "kernelspec": {
   "display_name": "Python 3",
   "language": "python",
   "name": "python3"
  },
  "language_info": {
   "codemirror_mode": {
    "name": "ipython",
    "version": 3
   },
   "file_extension": ".py",
   "mimetype": "text/x-python",
   "name": "python",
   "nbconvert_exporter": "python",
   "pygments_lexer": "ipython3",
   "version": "3.10.13"
  }
 },
 "nbformat": 4,
 "nbformat_minor": 2
}
