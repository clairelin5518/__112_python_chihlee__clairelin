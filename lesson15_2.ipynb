{
 "cells": [
  {
   "cell_type": "code",
   "execution_count": 1,
   "metadata": {},
   "outputs": [
    {
     "data": {
      "text/html": [
       "<div>\n",
       "<style scoped>\n",
       "    .dataframe tbody tr th:only-of-type {\n",
       "        vertical-align: middle;\n",
       "    }\n",
       "\n",
       "    .dataframe tbody tr th {\n",
       "        vertical-align: top;\n",
       "    }\n",
       "\n",
       "    .dataframe thead th {\n",
       "        text-align: right;\n",
       "    }\n",
       "</style>\n",
       "<table border=\"1\" class=\"dataframe\">\n",
       "  <thead>\n",
       "    <tr style=\"text-align: right;\">\n",
       "      <th></th>\n",
       "      <th>d</th>\n",
       "      <th>f</th>\n",
       "      <th>e</th>\n",
       "    </tr>\n",
       "  </thead>\n",
       "  <tbody>\n",
       "    <tr>\n",
       "      <th>台北</th>\n",
       "      <td>-0.433665</td>\n",
       "      <td>1.037420</td>\n",
       "      <td>-0.440502</td>\n",
       "    </tr>\n",
       "    <tr>\n",
       "      <th>台中</th>\n",
       "      <td>0.486396</td>\n",
       "      <td>0.414881</td>\n",
       "      <td>-1.227634</td>\n",
       "    </tr>\n",
       "    <tr>\n",
       "      <th>台南</th>\n",
       "      <td>-0.245141</td>\n",
       "      <td>-0.105075</td>\n",
       "      <td>0.515981</td>\n",
       "    </tr>\n",
       "    <tr>\n",
       "      <th>高雄</th>\n",
       "      <td>-0.343335</td>\n",
       "      <td>-0.316853</td>\n",
       "      <td>-0.119979</td>\n",
       "    </tr>\n",
       "  </tbody>\n",
       "</table>\n",
       "</div>"
      ],
      "text/plain": [
       "           d         f         e\n",
       "台北 -0.433665  1.037420 -0.440502\n",
       "台中  0.486396  0.414881 -1.227634\n",
       "台南 -0.245141 -0.105075  0.515981\n",
       "高雄 -0.343335 -0.316853 -0.119979"
      ]
     },
     "execution_count": 1,
     "metadata": {},
     "output_type": "execute_result"
    }
   ],
   "source": [
    "import numpy as np\n",
    "import pandas as pd\n",
    "\n",
    "frame=pd.DataFrame(np.random.randn(4,3),\n",
    "             columns=['d','f','e'],\n",
    "             index=['台北','台中','台南','高雄']\n",
    "             )\n",
    "frame"
   ]
  },
  {
   "cell_type": "code",
   "execution_count": 2,
   "metadata": {},
   "outputs": [
    {
     "data": {
      "text/html": [
       "<div>\n",
       "<style scoped>\n",
       "    .dataframe tbody tr th:only-of-type {\n",
       "        vertical-align: middle;\n",
       "    }\n",
       "\n",
       "    .dataframe tbody tr th {\n",
       "        vertical-align: top;\n",
       "    }\n",
       "\n",
       "    .dataframe thead th {\n",
       "        text-align: right;\n",
       "    }\n",
       "</style>\n",
       "<table border=\"1\" class=\"dataframe\">\n",
       "  <thead>\n",
       "    <tr style=\"text-align: right;\">\n",
       "      <th></th>\n",
       "      <th>d</th>\n",
       "      <th>f</th>\n",
       "      <th>e</th>\n",
       "    </tr>\n",
       "  </thead>\n",
       "  <tbody>\n",
       "    <tr>\n",
       "      <th>台北</th>\n",
       "      <td>0.433665</td>\n",
       "      <td>1.037420</td>\n",
       "      <td>0.440502</td>\n",
       "    </tr>\n",
       "    <tr>\n",
       "      <th>台中</th>\n",
       "      <td>0.486396</td>\n",
       "      <td>0.414881</td>\n",
       "      <td>1.227634</td>\n",
       "    </tr>\n",
       "    <tr>\n",
       "      <th>台南</th>\n",
       "      <td>0.245141</td>\n",
       "      <td>0.105075</td>\n",
       "      <td>0.515981</td>\n",
       "    </tr>\n",
       "    <tr>\n",
       "      <th>高雄</th>\n",
       "      <td>0.343335</td>\n",
       "      <td>0.316853</td>\n",
       "      <td>0.119979</td>\n",
       "    </tr>\n",
       "  </tbody>\n",
       "</table>\n",
       "</div>"
      ],
      "text/plain": [
       "           d         f         e\n",
       "台北  0.433665  1.037420  0.440502\n",
       "台中  0.486396  0.414881  1.227634\n",
       "台南  0.245141  0.105075  0.515981\n",
       "高雄  0.343335  0.316853  0.119979"
      ]
     },
     "execution_count": 2,
     "metadata": {},
     "output_type": "execute_result"
    }
   ],
   "source": [
    "np.absolute(frame)"
   ]
  },
  {
   "cell_type": "code",
   "execution_count": 4,
   "metadata": {},
   "outputs": [
    {
     "name": "stdout",
     "output_type": "stream",
     "text": [
      "-0.4336651429973891\n",
      "0.4863961336082355\n",
      "-0.24514145782723365\n",
      "-0.3433352686361568\n",
      "======\n",
      "1.037420007709418\n",
      "0.4148805082947122\n",
      "-0.10507495476597421\n",
      "-0.3168526626998712\n",
      "======\n",
      "-0.4405015009128588\n",
      "-1.2276335198209707\n",
      "0.5159808180562988\n",
      "-0.11997924446807938\n",
      "======\n"
     ]
    }
   ],
   "source": [
    "#使用for in讀取DataFrame\n",
    "for column in frame:\n",
    "    for item in frame[column]:\n",
    "        print(item)\n",
    "    print('======')"
   ]
  },
  {
   "cell_type": "code",
   "execution_count": 5,
   "metadata": {},
   "outputs": [
    {
     "name": "stdout",
     "output_type": "stream",
     "text": [
      "台北    0.433665\n",
      "台中    0.486396\n",
      "台南    0.245141\n",
      "高雄    0.343335\n",
      "Name: d, dtype: float64\n",
      "台北    1.037420\n",
      "台中    0.414881\n",
      "台南    0.105075\n",
      "高雄    0.316853\n",
      "Name: f, dtype: float64\n",
      "台北    0.440502\n",
      "台中    1.227634\n",
      "台南    0.515981\n",
      "高雄    0.119979\n",
      "Name: e, dtype: float64\n"
     ]
    }
   ],
   "source": [
    "#使用for in讀取DataFrame\n",
    "for column in frame:\n",
    "    print(np.abs(frame[column]))\n"
   ]
  },
  {
   "cell_type": "code",
   "execution_count": 9,
   "metadata": {},
   "outputs": [
    {
     "data": {
      "text/plain": [
       "d    0.486396\n",
       "f    1.037420\n",
       "e    0.515981\n",
       "dtype: float64"
      ]
     },
     "execution_count": 9,
     "metadata": {},
     "output_type": "execute_result"
    }
   ],
   "source": [
    "np.max(frame,axis=0)\n"
   ]
  },
  {
   "cell_type": "code",
   "execution_count": 11,
   "metadata": {},
   "outputs": [
    {
     "data": {
      "text/plain": [
       "台北    1.037420\n",
       "台中    0.486396\n",
       "台南    0.515981\n",
       "高雄   -0.119979\n",
       "dtype: float64"
      ]
     },
     "execution_count": 11,
     "metadata": {},
     "output_type": "execute_result"
    }
   ],
   "source": [
    "np.max(frame,axis=1)"
   ]
  },
  {
   "cell_type": "code",
   "execution_count": 8,
   "metadata": {},
   "outputs": [
    {
     "data": {
      "text/plain": [
       "d    0.920061\n",
       "f    1.354273\n",
       "e    1.743614\n",
       "dtype: float64"
      ]
     },
     "execution_count": 8,
     "metadata": {},
     "output_type": "execute_result"
    }
   ],
   "source": [
    "#使用numpy的function\n",
    "np.max(frame,axis=0)-np.min(frame,axis=0)"
   ]
  },
  {
   "cell_type": "code",
   "execution_count": 7,
   "metadata": {},
   "outputs": [
    {
     "data": {
      "text/plain": [
       "d    0.920061\n",
       "f    1.354273\n",
       "e    1.743614\n",
       "dtype: float64"
      ]
     },
     "execution_count": 7,
     "metadata": {},
     "output_type": "execute_result"
    }
   ],
   "source": [
    "#使用dataFrame的method\n",
    "frame.max(axis=0)-frame.min(axis=0)\n"
   ]
  },
  {
   "cell_type": "code",
   "execution_count": 12,
   "metadata": {},
   "outputs": [
    {
     "name": "stdout",
     "output_type": "stream",
     "text": [
      "d\n",
      "f\n",
      "e\n"
     ]
    },
    {
     "data": {
      "text/plain": [
       "d    1.920061\n",
       "f    2.354273\n",
       "e    2.743614\n",
       "dtype: float64"
      ]
     },
     "execution_count": 12,
     "metadata": {},
     "output_type": "execute_result"
    }
   ],
   "source": [
    "def fun1(series):\n",
    "    print(series.name)\n",
    "    return series.max()-series.min()+1\n",
    "\n",
    "frame.apply(fun1)"
   ]
  }
 ],
 "metadata": {
  "kernelspec": {
   "display_name": "Python 3",
   "language": "python",
   "name": "python3"
  },
  "language_info": {
   "codemirror_mode": {
    "name": "ipython",
    "version": 3
   },
   "file_extension": ".py",
   "mimetype": "text/x-python",
   "name": "python",
   "nbconvert_exporter": "python",
   "pygments_lexer": "ipython3",
   "version": "3.10.13"
  }
 },
 "nbformat": 4,
 "nbformat_minor": 2
}
